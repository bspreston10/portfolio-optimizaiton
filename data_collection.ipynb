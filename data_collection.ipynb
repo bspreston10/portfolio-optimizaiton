{
 "cells": [
  {
   "cell_type": "code",
   "execution_count": 9,
   "metadata": {},
   "outputs": [],
   "source": [
    "# Importing libraries and APIs\n",
    "import numpy as np\n",
    "import pandas as pd \n",
    "import yfinance as yf\n",
    "from datetime import datetime, timedelta"
   ]
  },
  {
   "cell_type": "code",
   "execution_count": 2,
   "metadata": {},
   "outputs": [],
   "source": [
    "# FINDING TICKERS FOR EVERY STOCK THAT WILL BE USED\n",
    "tickers = ['AAPL', 'MSFT', 'JNJ', \n",
    "           'TSLA', 'NVDA', 'PG', \n",
    "           'KO', 'BABA', 'TCEHY', \n",
    "           'SPY', 'VTI']"
   ]
  },
  {
   "cell_type": "code",
   "execution_count": 3,
   "metadata": {},
   "outputs": [
    {
     "name": "stdout",
     "output_type": "stream",
     "text": [
      "2024-10-09 16:58:25.735411\n"
     ]
    }
   ],
   "source": [
    "# SETTING END DATE\n",
    "end_date = datetime.today()\n",
    "print(end_date)"
   ]
  },
  {
   "cell_type": "code",
   "execution_count": 4,
   "metadata": {},
   "outputs": [
    {
     "name": "stdout",
     "output_type": "stream",
     "text": [
      "2019-10-11 16:58:25.735411\n"
     ]
    }
   ],
   "source": [
    "# SETTING START DATE 5 YEARS FROM NOW\n",
    "start_date = end_date - timedelta(days = 5*365)\n",
    "print(start_date)"
   ]
  },
  {
   "cell_type": "code",
   "execution_count": 5,
   "metadata": {},
   "outputs": [],
   "source": [
    "# CREATING A DATAFRAME FOR ADJUSTED CLOSE PRICES\n",
    "adj_close_df = pd.DataFrame()"
   ]
  },
  {
   "cell_type": "code",
   "execution_count": 6,
   "metadata": {},
   "outputs": [
    {
     "name": "stderr",
     "output_type": "stream",
     "text": [
      "[*********************100%%**********************]  1 of 1 completed\n",
      "[*********************100%%**********************]  1 of 1 completed\n",
      "[*********************100%%**********************]  1 of 1 completed\n",
      "[*********************100%%**********************]  1 of 1 completed\n",
      "[*********************100%%**********************]  1 of 1 completed\n",
      "[*********************100%%**********************]  1 of 1 completed\n",
      "[*********************100%%**********************]  1 of 1 completed\n",
      "[*********************100%%**********************]  1 of 1 completed\n",
      "[*********************100%%**********************]  1 of 1 completed\n",
      "[*********************100%%**********************]  1 of 1 completed\n",
      "[*********************100%%**********************]  1 of 1 completed\n"
     ]
    }
   ],
   "source": [
    "# DOWNLOADING PRICES FOR EACH TICKER\n",
    "for ticker in tickers:\n",
    "    data = yf.download(ticker, start = start_date, end = end_date)\n",
    "    adj_close_df[ticker] = data['Adj Close']"
   ]
  },
  {
   "cell_type": "code",
   "execution_count": 7,
   "metadata": {},
   "outputs": [
    {
     "name": "stdout",
     "output_type": "stream",
     "text": [
      "                  AAPL        MSFT         JNJ        TSLA        NVDA  \\\n",
      "Date                                                                     \n",
      "2019-10-11   57.141800  133.415344  114.444702   16.525999    4.627243   \n",
      "2019-10-14   57.059544  133.291168  113.913162   17.130667    4.640678   \n",
      "2019-10-15   56.926495  135.220566  115.760574   17.192667    4.885486   \n",
      "2019-10-16   56.696682  134.112610  117.791008   17.316668    4.831749   \n",
      "2019-10-17   56.916817  133.424881  118.662445   17.464666    4.833739   \n",
      "...                ...         ...         ...         ...         ...   \n",
      "2024-10-03  225.669998  416.540009  160.500000  240.660004  122.849998   \n",
      "2024-10-04  226.800003  416.059998  160.289993  250.080002  124.919998   \n",
      "2024-10-07  221.690002  409.540009  159.529999  240.830002  127.720001   \n",
      "2024-10-08  225.770004  414.709991  159.690002  244.500000  132.889999   \n",
      "2024-10-09  229.539993  417.459991  160.649994  241.050003  132.649994   \n",
      "\n",
      "                    PG         KO        BABA      TCEHY         SPY  \\\n",
      "Date                                                                   \n",
      "2019-10-11  106.976295  45.652592  167.016220  38.552887  274.264526   \n",
      "2019-10-14  106.057510  45.652592  165.297195  38.395569  273.959076   \n",
      "2019-10-15  103.539703  45.832455  169.285721  38.950813  276.671295   \n",
      "2019-10-16  103.831223  45.815323  171.053040  38.756481  276.226898   \n",
      "2019-10-17  103.694298  46.072289  170.792297  38.913803  277.041595   \n",
      "...                ...        ...         ...        ...         ...   \n",
      "2024-10-03  170.119995  70.519997  112.839996  59.430000  567.820007   \n",
      "2024-10-04  168.880005  70.169998  114.529999  60.770000  572.979980   \n",
      "2024-10-07  167.119995  69.010002  117.519997  62.349998  567.799988   \n",
      "2024-10-08  168.160004  69.180000  109.680000  57.340000  573.169983   \n",
      "2024-10-09  169.270004  69.570000  107.889999  56.560001  577.140015   \n",
      "\n",
      "                   VTI  \n",
      "Date                    \n",
      "2019-10-11  139.298447  \n",
      "2019-10-14  139.168945  \n",
      "2019-10-15  140.537613  \n",
      "2019-10-16  140.278702  \n",
      "2019-10-17  140.741058  \n",
      "...                ...  \n",
      "2024-10-03  280.040009  \n",
      "2024-10-04  282.750000  \n",
      "2024-10-07  280.170013  \n",
      "2024-10-08  282.529999  \n",
      "2024-10-09  284.500000  \n",
      "\n",
      "[1257 rows x 11 columns]\n"
     ]
    }
   ],
   "source": [
    "print(adj_close_df)"
   ]
  },
  {
   "attachments": {},
   "cell_type": "markdown",
   "metadata": {},
   "source": [
    "# Calculate Lognormal Returns"
   ]
  },
  {
   "attachments": {},
   "cell_type": "markdown",
   "metadata": {},
   "source": [
    "## calculating log returns for each ticker"
   ]
  },
  {
   "cell_type": "code",
   "execution_count": 10,
   "metadata": {},
   "outputs": [],
   "source": [
    "log_returns = np.log(adj_close_df / adj_close_df.shift(1))"
   ]
  },
  {
   "attachments": {},
   "cell_type": "markdown",
   "metadata": {},
   "source": [
    "## Dropping missing values"
   ]
  },
  {
   "cell_type": "code",
   "execution_count": 11,
   "metadata": {},
   "outputs": [],
   "source": [
    "log_returns = log_returns.dropna()"
   ]
  },
  {
   "attachments": {},
   "cell_type": "markdown",
   "metadata": {},
   "source": [
    "# Calculating covariance matrix"
   ]
  },
  {
   "cell_type": "code",
   "execution_count": 14,
   "metadata": {},
   "outputs": [
    {
     "name": "stdout",
     "output_type": "stream",
     "text": [
      "           AAPL      MSFT       JNJ      TSLA      NVDA        PG        KO  \\\n",
      "AAPL   0.100437  0.072156  0.023353  0.104511  0.104387  0.028043  0.029049   \n",
      "MSFT   0.072156  0.091888  0.023110  0.092238  0.111792  0.028703  0.027730   \n",
      "JNJ    0.023353  0.023110  0.039276  0.011716  0.016884  0.025119  0.023843   \n",
      "TSLA   0.104511  0.092238  0.011716  0.433064  0.171062  0.015012  0.024444   \n",
      "NVDA   0.104387  0.111792  0.016884  0.171062  0.284189  0.026423  0.024607   \n",
      "PG     0.028043  0.028703  0.025119  0.015012  0.026423  0.043849  0.028653   \n",
      "KO     0.029049  0.027730  0.023843  0.024444  0.024607  0.028653  0.043375   \n",
      "BABA   0.049981  0.044769  0.011345  0.099355  0.084105  0.013091  0.013427   \n",
      "TCEHY  0.046222  0.044324  0.009104  0.088439  0.079005  0.011503  0.012012   \n",
      "SPY    0.052811  0.052264  0.021625  0.070551  0.078627  0.024299  0.028020   \n",
      "VTI    0.053379  0.052801  0.021389  0.074761  0.080534  0.023866  0.028054   \n",
      "\n",
      "           BABA     TCEHY       SPY       VTI  \n",
      "AAPL   0.049981  0.046222  0.052811  0.053379  \n",
      "MSFT   0.044769  0.044324  0.052264  0.052801  \n",
      "JNJ    0.011345  0.009104  0.021625  0.021389  \n",
      "TSLA   0.099355  0.088439  0.070551  0.074761  \n",
      "NVDA   0.084105  0.079005  0.078627  0.080534  \n",
      "PG     0.013091  0.011503  0.024299  0.023866  \n",
      "KO     0.013427  0.012012  0.028020  0.028054  \n",
      "BABA   0.234179  0.163562  0.037769  0.040334  \n",
      "TCEHY  0.163562  0.193801  0.034812  0.037225  \n",
      "SPY    0.037769  0.034812  0.043975  0.045057  \n",
      "VTI    0.040334  0.037225  0.045057  0.046545  \n"
     ]
    }
   ],
   "source": [
    "cov_matrix = log_returns.cov()*252\n",
    "print(cov_matrix)"
   ]
  },
  {
   "attachments": {},
   "cell_type": "markdown",
   "metadata": {},
   "source": [
    "# Defining Portfolio Perfomance Metrics"
   ]
  },
  {
   "attachments": {},
   "cell_type": "markdown",
   "metadata": {},
   "source": [
    "## Calculating portfolio std"
   ]
  },
  {
   "cell_type": "code",
   "execution_count": 15,
   "metadata": {},
   "outputs": [],
   "source": [
    "def standard_deviation(weights, cov_matrix):\n",
    "    variance = weights.T @ cov_matrix @ weights\n",
    "    return np.sqrt(variance)"
   ]
  },
  {
   "attachments": {},
   "cell_type": "markdown",
   "metadata": {},
   "source": [
    "## Calculating expected return"
   ]
  },
  {
   "cell_type": "code",
   "execution_count": 16,
   "metadata": {},
   "outputs": [],
   "source": [
    "def excepted_return(weights, log_returns):\n",
    "    return np.sum(log_returns.mean()*weights)*252"
   ]
  },
  {
   "attachments": {},
   "cell_type": "markdown",
   "metadata": {},
   "source": [
    "## Calculating Sharpe Ratio"
   ]
  },
  {
   "cell_type": "code",
   "execution_count": 17,
   "metadata": {},
   "outputs": [],
   "source": [
    "def sharpe_ratio(weights, log_returns, cov_matrix, risk_free_rate):\n",
    "    return(excepted_return(weights, log_returns) - risk_free_rate) / standard_deviation(weights, cov_matrix)"
   ]
  },
  {
   "attachments": {},
   "cell_type": "markdown",
   "metadata": {},
   "source": [
    "# Portfolio Optimization"
   ]
  },
  {
   "attachments": {},
   "cell_type": "markdown",
   "metadata": {},
   "source": [
    "## Setting Risk Free Rate"
   ]
  },
  {
   "cell_type": "code",
   "execution_count": 19,
   "metadata": {},
   "outputs": [
    {
     "name": "stdout",
     "output_type": "stream",
     "text": [
      "0.037200000000000004\n"
     ]
    }
   ],
   "source": [
    "# Importing FRED API\n",
    "from fredapi import Fred \n",
    "\n",
    "fred = Fred(api_key = '9ced124c5a728e16342d9fcf66ab176d')\n",
    "ten_year_treasury_rate = fred.get_series_latest_release('GS10') / 100\n",
    "\n",
    "# Setting risk free rate\n",
    "risk_free_rate = ten_year_treasury_rate.iloc[-1]\n",
    "print(risk_free_rate)\n",
    "\n"
   ]
  },
  {
   "attachments": {},
   "cell_type": "markdown",
   "metadata": {},
   "source": [
    "## Using negative sharpe ratio"
   ]
  },
  {
   "cell_type": "code",
   "execution_count": 20,
   "metadata": {},
   "outputs": [],
   "source": [
    "def neg_sharpe_ratio(weights, log_returns, cov_matrix, risk_free_rate):\n",
    "    return -sharpe_ratio(weights, log_returns, cov_matrix, risk_free_rate)"
   ]
  },
  {
   "attachments": {},
   "cell_type": "markdown",
   "metadata": {},
   "source": [
    "## Setting contraints and bounds"
   ]
  },
  {
   "cell_type": "code",
   "execution_count": 25,
   "metadata": {},
   "outputs": [],
   "source": [
    "constraints = {'type': 'eq', 'fun': lambda weights: np.sum(weights) - 1}\n",
    "bounds = [(0, 0.5) for _ in range(len(tickers))]"
   ]
  },
  {
   "attachments": {},
   "cell_type": "markdown",
   "metadata": {},
   "source": [
    "## Set intial weights"
   ]
  },
  {
   "cell_type": "code",
   "execution_count": 22,
   "metadata": {},
   "outputs": [
    {
     "name": "stdout",
     "output_type": "stream",
     "text": [
      "[0.09090909 0.09090909 0.09090909 0.09090909 0.09090909 0.09090909\n",
      " 0.09090909 0.09090909 0.09090909 0.09090909 0.09090909]\n"
     ]
    }
   ],
   "source": [
    "intial_weights = np.array([1/len(tickers)]*len(tickers))\n",
    "print(intial_weights)"
   ]
  },
  {
   "attachments": {},
   "cell_type": "markdown",
   "metadata": {},
   "source": [
    "## Optimizing weights to maximuze Sharpe Ratio"
   ]
  },
  {
   "cell_type": "code",
   "execution_count": 23,
   "metadata": {},
   "outputs": [],
   "source": [
    "from scipy.optimize import minimize"
   ]
  },
  {
   "cell_type": "code",
   "execution_count": 27,
   "metadata": {},
   "outputs": [],
   "source": [
    "optimized_results = minimize(neg_sharpe_ratio, intial_weights, args = (log_returns, cov_matrix, risk_free_rate), method='SLSQP', constraints=constraints, bounds=bounds)"
   ]
  },
  {
   "attachments": {},
   "cell_type": "markdown",
   "metadata": {},
   "source": [
    "## Get the optimal weights"
   ]
  },
  {
   "cell_type": "code",
   "execution_count": 28,
   "metadata": {},
   "outputs": [],
   "source": [
    "optimal_weights = optimized_results.x"
   ]
  },
  {
   "attachments": {},
   "cell_type": "markdown",
   "metadata": {},
   "source": [
    "# Vizualing"
   ]
  },
  {
   "attachments": {},
   "cell_type": "markdown",
   "metadata": {},
   "source": [
    "## Displaying analytics"
   ]
  },
  {
   "cell_type": "code",
   "execution_count": 29,
   "metadata": {},
   "outputs": [
    {
     "name": "stdout",
     "output_type": "stream",
     "text": [
      "Optimal Weights:\n",
      "AAPL: 0.105274\n",
      "MSFT: 0.000000\n",
      "JNJ: 0.092402\n",
      "TSLA: 0.147587\n",
      "NVDA: 0.500000\n",
      "PG: 0.154737\n",
      "KO: 0.000000\n",
      "BABA: 0.000000\n",
      "TCEHY: 0.000000\n",
      "SPY: 0.000000\n",
      "VTI: 0.000000\n",
      "\n",
      "Expected Annual Return: 0.465910\n",
      "Expected Volatility: 0.362219\n",
      "Sharpe Ratio: 1.183566\n"
     ]
    }
   ],
   "source": [
    "print(\"Optimal Weights:\")\n",
    "for ticker, weight in zip(tickers, optimal_weights):\n",
    "    print(f\"{ticker}: {weight:4f}\")\n",
    "\n",
    "print()\n",
    "\n",
    "optimal_portfolio_return = excepted_return(optimal_weights, log_returns)\n",
    "optimal_portfolio_volatility = standard_deviation(optimal_weights, cov_matrix)\n",
    "optimal_sharpe_ratio = sharpe_ratio(optimal_weights, log_returns, cov_matrix, risk_free_rate)\n",
    "\n",
    "print(f\"Expected Annual Return: {optimal_portfolio_return:4f}\")\n",
    "print(f\"Expected Volatility: {optimal_portfolio_volatility:4f}\")\n",
    "print(f\"Sharpe Ratio: {optimal_sharpe_ratio:4f}\")"
   ]
  },
  {
   "attachments": {},
   "cell_type": "markdown",
   "metadata": {},
   "source": [
    "## Plotting"
   ]
  },
  {
   "cell_type": "code",
   "execution_count": 30,
   "metadata": {},
   "outputs": [
    {
     "data": {
      "image/png": "[encoded data removed]",
      "text/plain": [
       "<Figure size 1500x500 with 1 Axes>"
      ]
     },
     "metadata": {},
     "output_type": "display_data"
    }
   ],
   "source": [
    "import matplotlib.pyplot as plt \n",
    "\n",
    "plt.figure(figsize=(15,5))\n",
    "plt.bar(tickers, optimal_weights)\n",
    "\n",
    "plt.xlabel('Assets')\n",
    "plt.ylabel('Optimal Weights')\n",
    "plt.title('Optimal Portfolio Weights')\n",
    "\n",
    "plt.show()"
   ]
  }
 ],
 "metadata": {
  "kernelspec": {
   "display_name": "Python 3",
   "language": "python",
   "name": "python3"
  },
  "language_info": {
   "codemirror_mode": {
    "name": "ipython",
    "version": 3
   },
   "file_extension": ".py",
   "mimetype": "text/x-python",
   "name": "python",
   "nbconvert_exporter": "python",
   "pygments_lexer": "ipython3",
   "version": "3.12.4"
  },
  "orig_nbformat": 4
 },
 "nbformat": 4,
 "nbformat_minor": 2
}
